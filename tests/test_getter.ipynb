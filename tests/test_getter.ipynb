{
 "cells": [
  {
   "cell_type": "markdown",
   "id": "62101fd2-f857-4233-b61a-8989a23f0152",
   "metadata": {},
   "source": [
    "Função get_web\n",
    "Está função provê uma função de buscar páginas na web com a seguinte assinatura."
   ]
  },
  {
   "cell_type": "code",
   "execution_count": null,
   "id": "7f9a6a28-8fea-47d8-9876-2afb4b3c8dab",
   "metadata": {
    "tags": []
   },
   "outputs": [],
   "source": [
    "# Função get_web\n",
    "from typing import Any\n",
    "def get_web(nome_pagina: str) -> Any:\n",
    "    \"\"\" Está função busca páginas na web\"\"\" \n",
    "    pass"
   ]
  },
  {
   "cell_type": "code",
   "execution_count": null,
   "id": "1380a5a1-3a0e-45dc-ad08-1b073b94400e",
   "metadata": {},
   "outputs": [],
   "source": [
    "import requests"
   ]
  },
  {
   "cell_type": "code",
   "execution_count": null,
   "id": "8697f469-c301-40ed-89fc-cbdba51db0d1",
   "metadata": {},
   "outputs": [],
   "source": [
    "# Buscar dados no site\n",
    "r = requests.get('https://api.github.com/events')\n",
    "print(type(r))"
   ]
  },
  {
   "cell_type": "code",
   "execution_count": null,
   "id": "d83634bb-d976-4171-a89e-5f4005b782ab",
   "metadata": {},
   "outputs": [],
   "source": [
    "# Enviar informações e gravar dados\n",
    "r = requests.post('https://httpbin.org/post', data={'key': 'value'})\n",
    "print(type(r))"
   ]
  },
  {
   "cell_type": "code",
   "execution_count": null,
   "id": "ec513eae-a7da-4596-b60e-b92fa6f0aa72",
   "metadata": {},
   "outputs": [],
   "source": [
    "import requests"
   ]
  },
  {
   "cell_type": "code",
   "execution_count": null,
   "id": "337ddf58-0b4d-4e01-ab51-117574ee7e6e",
   "metadata": {},
   "outputs": [],
   "source": [
    "r = requests.get('https://api.github.com/events')\n",
    "r.text"
   ]
  },
  {
   "cell_type": "code",
   "execution_count": null,
   "id": "697ead17-3836-4077-968b-8e2bcfe29d59",
   "metadata": {},
   "outputs": [],
   "source": [
    "# Serve para descobrir a codificação \n",
    "r.encoding"
   ]
  },
  {
   "cell_type": "code",
   "execution_count": null,
   "id": "2d0e790e-f18a-43e7-ba2c-62a5c959a630",
   "metadata": {},
   "outputs": [],
   "source": [
    "from PIL import Image\n",
    "from io import BytesIO\n",
    "\n",
    "i = Image.open(BytesIO(r.content))"
   ]
  },
  {
   "cell_type": "code",
   "execution_count": null,
   "id": "d144034c-5b97-4dd8-aad0-1e3e3e167ad7",
   "metadata": {},
   "outputs": [],
   "source": [
    "# Conteúdo de resposta JSON\n",
    "## Possui também um decodificador JSON interno.\n",
    "import requests\n",
    "r = requests.get('https://api.github.com/events')\n",
    "r.json()"
   ]
  },
  {
   "cell_type": "markdown",
   "id": "ae0010d9-8527-48e5-bf13-9b4e519e61bb",
   "metadata": {},
   "source": [
    "Abrindo arquivos com Python"
   ]
  },
  {
   "cell_type": "code",
   "execution_count": null,
   "id": "c80c2c96-5e48-4aa9-80dd-887bbcee68fd",
   "metadata": {},
   "outputs": [],
   "source": [
    "arquivo2 = open(\"arquivo2.txt\", 'w')\n",
    "arquivo2.close()"
   ]
  },
  {
   "cell_type": "code",
   "execution_count": null,
   "id": "f0784819-2da0-4b60-904e-3c3f20063519",
   "metadata": {},
   "outputs": [],
   "source": [
    "casa = \"A casa é bonita\"\n",
    "\n",
    "arquivo_casa = open(\"casa.txt\", \"w\")"
   ]
  }
 ],
 "metadata": {
  "kernelspec": {
   "display_name": "Python 3 (ipykernel)",
   "language": "python",
   "name": "python3"
  },
  "language_info": {
   "codemirror_mode": {
    "name": "ipython",
    "version": 3
   },
   "file_extension": ".py",
   "mimetype": "text/x-python",
   "name": "python",
   "nbconvert_exporter": "python",
   "pygments_lexer": "ipython3",
   "version": "3.11.5"
  }
 },
 "nbformat": 4,
 "nbformat_minor": 5
}
